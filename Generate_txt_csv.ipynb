{
  "nbformat": 4,
  "nbformat_minor": 0,
  "metadata": {
    "colab": {
      "name": "Generate_txt_csv.ipynb",
      "provenance": [],
      "toc_visible": true,
      "authorship_tag": "ABX9TyNTuJilKyIOY8qS06TVdsJW",
      "include_colab_link": true
    },
    "kernelspec": {
      "name": "python3",
      "display_name": "Python 3"
    }
  },
  "cells": [
    {
      "cell_type": "markdown",
      "metadata": {
        "id": "view-in-github",
        "colab_type": "text"
      },
      "source": [
        "<a href=\"https://colab.research.google.com/github/baiyunming/I2DL_FinalProject/blob/main/Generate_txt_csv.ipynb\" target=\"_parent\"><img src=\"https://colab.research.google.com/assets/colab-badge.svg\" alt=\"Open In Colab\"/></a>"
      ]
    },
    {
      "cell_type": "markdown",
      "metadata": {
        "id": "WnS64i7iCwLf"
      },
      "source": [
        "# **Import necessary packages**"
      ]
    },
    {
      "cell_type": "code",
      "metadata": {
        "id": "jGgVfaNDfw1x"
      },
      "source": [
        "import os\r\n",
        "import csv\r\n",
        "from google.colab import drive"
      ],
      "execution_count": null,
      "outputs": []
    },
    {
      "cell_type": "markdown",
      "metadata": {
        "id": "s8bvTlkHC1hO"
      },
      "source": [
        "# **Move to animal_dataset directory**"
      ]
    },
    {
      "cell_type": "code",
      "metadata": {
        "id": "Bad2lMNHgZOk"
      },
      "source": [
        "drive.mount('/content/drive')"
      ],
      "execution_count": null,
      "outputs": []
    },
    {
      "cell_type": "code",
      "metadata": {
        "id": "_H-6pzxGgkwd"
      },
      "source": [
        "%cd drive/MyDrive/ObjectDetection/animal_dataset/"
      ],
      "execution_count": null,
      "outputs": []
    },
    {
      "cell_type": "markdown",
      "metadata": {
        "id": "-A6IqxNJCjlv"
      },
      "source": [
        "# **Genrate txt file for training and validation(test)**"
      ]
    },
    {
      "cell_type": "markdown",
      "metadata": {
        "id": "bV0Cz12DFXzD"
      },
      "source": [
        "**This cell works not quite stablle. Therefore you may need to run this cell numtiple times until there are 1595 lines in train.txt and 221 lines in test.txt**"
      ]
    },
    {
      "cell_type": "code",
      "metadata": {
        "id": "_Nyvwq56h0k1"
      },
      "source": [
        "import os\r\n",
        "\r\n",
        "train_file = open(\"train.txt\", \"w\")\r\n",
        "test_file = open(\"test.txt\", \"w\")\r\n",
        "\r\n",
        "current_path = os.getcwd()\r\n",
        "print(current_path)\r\n",
        "\r\n",
        "dir_list = os.listdir(current_path)\r\n",
        "dir_list.sort()\r\n",
        "\r\n",
        "for dir_name in dir_list:\r\n",
        "    if os.path.isdir(dir_name):\r\n",
        "        dir = current_path + \"/\" + dir_name\r\n",
        "        print(dir)\r\n",
        "        counter = 0\r\n",
        "        path_list_unsorted=os.listdir(dir)\r\n",
        "        path_list = sorted(path_list_unsorted) \r\n",
        "\r\n",
        "        for file_name in path_list:\r\n",
        "            print(dir + '/' + file_name)\r\n",
        "            \r\n",
        "            if file_name[0] == '_':\r\n",
        "              if file_name[-3:] == 'jpg' or file_name[-4:] == 'jpeg':\r\n",
        "                  train_file.write(dir + '/' + file_name + '#')\r\n",
        "                  train_file.close\r\n",
        "                  continue\r\n",
        "              else:\r\n",
        "                  train_file.write(dir + '/' + file_name + \"\\n\")\r\n",
        "                  train_file.close\r\n",
        "                  continue\r\n",
        "            \r\n",
        "            if counter < 320:\r\n",
        "                if file_name[-3:] == 'jpg' or file_name[-4:] == 'jpeg':\r\n",
        "                    train_file.write(dir + '/' + file_name + '#')\r\n",
        "                    train_file.close\r\n",
        "                else:\r\n",
        "                    train_file.write(dir + '/' + file_name + \"\\n\")\r\n",
        "                    train_file.close\r\n",
        "                    counter = counter + 1\r\n",
        "\r\n",
        "            else:\r\n",
        "                if file_name[-3:] == 'jpg' or file_name[-4:] == 'jpeg':\r\n",
        "                    #print(\"writing11\")\r\n",
        "                    test_file.write(dir + '/' + file_name + '#')\r\n",
        "                    #print(\"writing12\")\r\n",
        "                    test_file.close\r\n",
        "                else:\r\n",
        "                    test_file.write(dir + '/' + file_name + \"\\n\")\r\n",
        "                    #print(\"writing21\")\r\n",
        "                    test_file.close\r\n",
        "                    counter = counter + 1\r\n",
        "                    #print(\"writing22\")\r\n",
        "                "
      ],
      "execution_count": null,
      "outputs": []
    },
    {
      "cell_type": "markdown",
      "metadata": {
        "id": "7jHGsQ95Cs-Z"
      },
      "source": [
        "# **Genrate csv file for training and validation(test)**"
      ]
    },
    {
      "cell_type": "code",
      "metadata": {
        "id": "QrnhnRO-iYH4"
      },
      "source": [
        "read_train = open(\"train.txt\", \"r\").readlines()\r\n",
        "\r\n",
        "with open(\"train.csv\", mode=\"w\", newline=\"\") as train_file:\r\n",
        "    for line in read_train:\r\n",
        "        text_file = line.split(\"#\")[-1].replace(\"\\n\", \"\")\r\n",
        "        image_file = line.split('#')[0]\r\n",
        "        #text_file = image_file.replace(\".jpg\", \".txt\")\r\n",
        "        data = [image_file, text_file]\r\n",
        "        writer = csv.writer(train_file)\r\n",
        "        writer.writerow(data)\r\n",
        "\r\n",
        "read_test = open(\"test.txt\", \"r\").readlines()\r\n",
        "\r\n",
        "with open(\"test.csv\", mode=\"w\", newline=\"\") as train_file:\r\n",
        "    for line in read_test:\r\n",
        "        #image_file = line.split(\"#\")[-1].replace(\"\\n\", \"\")\r\n",
        "        #text_file = image_file.replace(\".jpg\", \".txt\")\r\n",
        "        text_file = line.split(\"#\")[-1].replace(\"\\n\", \"\")\r\n",
        "        image_file = line.split('#')[0]\r\n",
        "        data = [image_file, text_file]\r\n",
        "        writer = csv.writer(train_file)\r\n",
        "        writer.writerow(data)\r\n"
      ],
      "execution_count": null,
      "outputs": []
    },
    {
      "cell_type": "code",
      "metadata": {
        "id": "54vLCa1vpT_b"
      },
      "source": [
        ""
      ],
      "execution_count": null,
      "outputs": []
    }
  ]
}